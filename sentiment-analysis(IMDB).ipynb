{
 "cells": [
  {
   "cell_type": "markdown",
   "metadata": {},
   "source": [
    "### Sentiment alanysis"
   ]
  },
  {
   "cell_type": "code",
   "execution_count": null,
   "metadata": {},
   "outputs": [
    {
     "data": {
      "text/html": [
       "<div>\n",
       "<style scoped>\n",
       "    .dataframe tbody tr th:only-of-type {\n",
       "        vertical-align: middle;\n",
       "    }\n",
       "\n",
       "    .dataframe tbody tr th {\n",
       "        vertical-align: top;\n",
       "    }\n",
       "\n",
       "    .dataframe thead th {\n",
       "        text-align: right;\n",
       "    }\n",
       "</style>\n",
       "<table border=\"1\" class=\"dataframe\">\n",
       "  <thead>\n",
       "    <tr style=\"text-align: right;\">\n",
       "      <th></th>\n",
       "      <th>review</th>\n",
       "      <th>sentiment</th>\n",
       "    </tr>\n",
       "  </thead>\n",
       "  <tbody>\n",
       "    <tr>\n",
       "      <th>29648</th>\n",
       "      <td>so... it's really sexist, and classist, and i ...</td>\n",
       "      <td>negative</td>\n",
       "    </tr>\n",
       "    <tr>\n",
       "      <th>35842</th>\n",
       "      <td>Uncle Frank is everyone's uncle. This document...</td>\n",
       "      <td>positive</td>\n",
       "    </tr>\n",
       "    <tr>\n",
       "      <th>28870</th>\n",
       "      <td>Agreeable \"Boy's Own Paper\" nonsense with a sp...</td>\n",
       "      <td>positive</td>\n",
       "    </tr>\n",
       "    <tr>\n",
       "      <th>8461</th>\n",
       "      <td>The movie within the movie - a concept done ma...</td>\n",
       "      <td>positive</td>\n",
       "    </tr>\n",
       "    <tr>\n",
       "      <th>35240</th>\n",
       "      <td>Don't get me wrong this was fun to watch. It h...</td>\n",
       "      <td>positive</td>\n",
       "    </tr>\n",
       "  </tbody>\n",
       "</table>\n",
       "</div>"
      ],
      "text/plain": [
       "                                                  review sentiment\n",
       "29648  so... it's really sexist, and classist, and i ...  negative\n",
       "35842  Uncle Frank is everyone's uncle. This document...  positive\n",
       "28870  Agreeable \"Boy's Own Paper\" nonsense with a sp...  positive\n",
       "8461   The movie within the movie - a concept done ma...  positive\n",
       "35240  Don't get me wrong this was fun to watch. It h...  positive"
      ]
     },
     "execution_count": 2,
     "metadata": {},
     "output_type": "execute_result"
    }
   ],
   "source": [
    "import numpy as np\n",
    "import pandas as pd\n",
    "\n",
    "# 1 Load the imdb dataset\n",
    "df = pd.read_csv('imdb/IMDB Dataset.csv')\n",
    "df.sample(5)"
   ]
  },
  {
   "cell_type": "code",
   "execution_count": 3,
   "metadata": {},
   "outputs": [
    {
     "name": "stderr",
     "output_type": "stream",
     "text": [
      "2024-12-19 05:21:37.516688: E external/local_xla/xla/stream_executor/cuda/cuda_dnn.cc:9261] Unable to register cuDNN factory: Attempting to register factory for plugin cuDNN when one has already been registered\n",
      "2024-12-19 05:21:37.516829: E external/local_xla/xla/stream_executor/cuda/cuda_fft.cc:607] Unable to register cuFFT factory: Attempting to register factory for plugin cuFFT when one has already been registered\n",
      "2024-12-19 05:21:37.569763: E external/local_xla/xla/stream_executor/cuda/cuda_blas.cc:1515] Unable to register cuBLAS factory: Attempting to register factory for plugin cuBLAS when one has already been registered\n",
      "2024-12-19 05:21:37.681447: I tensorflow/core/platform/cpu_feature_guard.cc:182] This TensorFlow binary is optimized to use available CPU instructions in performance-critical operations.\n",
      "To enable the following instructions: AVX2 FMA, in other operations, rebuild TensorFlow with the appropriate compiler flags.\n",
      "2024-12-19 05:21:39.133886: W tensorflow/compiler/tf2tensorrt/utils/py_utils.cc:38] TF-TRT Warning: Could not find TensorRT\n"
     ]
    }
   ],
   "source": [
    "# 2 Data Cleaning and Preprocessing\n",
    "# Text Cleaning and Tokenization\n",
    "import re\n",
    "from tensorflow.keras.preprocessing.text import Tokenizer\n",
    "from tensorflow.keras.preprocessing.sequence import pad_sequences\n",
    "\n",
    "# Function to clean text\n",
    "def clean_text(text):\n",
    "    text = re.sub(r'<.*?>', '', text)  # Remove HTML tags\n",
    "    text = re.sub(r'[^a-zA-Z\\s]', '', text)  # Remove non-alphabet characters\n",
    "    return text.lower().strip()\n",
    "\n",
    "# Clean the reviews\n",
    "df['review'] = df['review'].apply(clean_text)\n",
    "\n",
    "# Tokenization and padding\n",
    "tokenizer = Tokenizer(num_words=10000, oov_token='<OOV>')\n",
    "tokenizer.fit_on_texts(df['review'])\n",
    "sequences = tokenizer.texts_to_sequences(df['review'])\n",
    "padded_sequences = pad_sequences(sequences, maxlen=200)\n"
   ]
  },
  {
   "cell_type": "code",
   "execution_count": 4,
   "metadata": {},
   "outputs": [],
   "source": [
    "# 3. Converting Labels to Numeric Format\n",
    "# Convert sentiment labels to binary\n",
    "df['sentiment'] = df['sentiment'].apply(lambda x: 1 if x == 'positive' else 0)\n",
    "\n",
    "# Splitting the data into features (X) and labels (y)\n",
    "X = padded_sequences\n",
    "y = df['sentiment'].values"
   ]
  },
  {
   "cell_type": "code",
   "execution_count": 6,
   "metadata": {},
   "outputs": [],
   "source": [
    "# 4. Splitting the Data into Training and Testing Sets\n",
    "from sklearn.model_selection import train_test_split\n",
    "\n",
    "X_train, X_test, y_train, y_test = train_test_split(X, y, test_size=0.2, random_state=42)"
   ]
  },
  {
   "cell_type": "code",
   "execution_count": 8,
   "metadata": {},
   "outputs": [
    {
     "name": "stderr",
     "output_type": "stream",
     "text": [
      "2024-12-19 05:29:03.753035: I external/local_xla/xla/stream_executor/cuda/cuda_executor.cc:887] could not open file to read NUMA node: /sys/bus/pci/devices/0000:09:00.0/numa_node\n",
      "Your kernel may have been built without NUMA support.\n",
      "2024-12-19 05:29:03.975278: I external/local_xla/xla/stream_executor/cuda/cuda_executor.cc:887] could not open file to read NUMA node: /sys/bus/pci/devices/0000:09:00.0/numa_node\n",
      "Your kernel may have been built without NUMA support.\n",
      "2024-12-19 05:29:03.975355: I external/local_xla/xla/stream_executor/cuda/cuda_executor.cc:887] could not open file to read NUMA node: /sys/bus/pci/devices/0000:09:00.0/numa_node\n",
      "Your kernel may have been built without NUMA support.\n",
      "2024-12-19 05:29:03.982277: I external/local_xla/xla/stream_executor/cuda/cuda_executor.cc:887] could not open file to read NUMA node: /sys/bus/pci/devices/0000:09:00.0/numa_node\n",
      "Your kernel may have been built without NUMA support.\n",
      "2024-12-19 05:29:03.982395: I external/local_xla/xla/stream_executor/cuda/cuda_executor.cc:887] could not open file to read NUMA node: /sys/bus/pci/devices/0000:09:00.0/numa_node\n",
      "Your kernel may have been built without NUMA support.\n",
      "2024-12-19 05:29:03.982457: I external/local_xla/xla/stream_executor/cuda/cuda_executor.cc:887] could not open file to read NUMA node: /sys/bus/pci/devices/0000:09:00.0/numa_node\n",
      "Your kernel may have been built without NUMA support.\n",
      "2024-12-19 05:29:04.275377: I external/local_xla/xla/stream_executor/cuda/cuda_executor.cc:887] could not open file to read NUMA node: /sys/bus/pci/devices/0000:09:00.0/numa_node\n",
      "Your kernel may have been built without NUMA support.\n",
      "2024-12-19 05:29:04.275469: I external/local_xla/xla/stream_executor/cuda/cuda_executor.cc:887] could not open file to read NUMA node: /sys/bus/pci/devices/0000:09:00.0/numa_node\n",
      "Your kernel may have been built without NUMA support.\n",
      "2024-12-19 05:29:04.275511: I tensorflow/core/common_runtime/gpu/gpu_device.cc:2022] Could not identify NUMA node of platform GPU id 0, defaulting to 0.  Your kernel may not have been built with NUMA support.\n",
      "2024-12-19 05:29:04.275636: I external/local_xla/xla/stream_executor/cuda/cuda_executor.cc:887] could not open file to read NUMA node: /sys/bus/pci/devices/0000:09:00.0/numa_node\n",
      "Your kernel may have been built without NUMA support.\n",
      "2024-12-19 05:29:04.275663: I tensorflow/core/common_runtime/gpu/gpu_device.cc:1929] Created device /job:localhost/replica:0/task:0/device:GPU:0 with 4080 MB memory:  -> device: 0, name: NVIDIA GeForce GTX 1660 Ti, pci bus id: 0000:09:00.0, compute capability: 7.5\n",
      "2024-12-19 05:29:04.726195: I external/local_tsl/tsl/platform/default/subprocess.cc:304] Start cannot spawn child process: No such file or directory\n"
     ]
    },
    {
     "name": "stdout",
     "output_type": "stream",
     "text": [
      "Epoch 1/10\n"
     ]
    },
    {
     "name": "stderr",
     "output_type": "stream",
     "text": [
      "2024-12-19 05:29:08.655034: I external/local_xla/xla/stream_executor/cuda/cuda_dnn.cc:454] Loaded cuDNN version 8904\n",
      "2024-12-19 05:29:09.290314: I external/local_xla/xla/service/service.cc:168] XLA service 0x7f5fd55c26f0 initialized for platform CUDA (this does not guarantee that XLA will be used). Devices:\n",
      "2024-12-19 05:29:09.290375: I external/local_xla/xla/service/service.cc:176]   StreamExecutor device (0): NVIDIA GeForce GTX 1660 Ti, Compute Capability 7.5\n",
      "2024-12-19 05:29:09.313930: I tensorflow/compiler/mlir/tensorflow/utils/dump_mlir_util.cc:269] disabling MLIR crash reproducer, set env var `MLIR_CRASH_REPRODUCER_DIRECTORY` to enable.\n",
      "WARNING: All log messages before absl::InitializeLog() is called are written to STDERR\n",
      "I0000 00:00:1734586149.460669    5777 device_compiler.h:186] Compiled cluster using XLA!  This line is logged at most once for the lifetime of the process.\n"
     ]
    },
    {
     "name": "stdout",
     "output_type": "stream",
     "text": [
      "1000/1000 [==============================] - 84s 80ms/step - loss: 0.6361 - accuracy: 0.5917 - val_loss: 0.6962 - val_accuracy: 0.5000\n",
      "Epoch 2/10\n",
      "1000/1000 [==============================] - 44s 44ms/step - loss: 0.6018 - accuracy: 0.6430 - val_loss: 0.4402 - val_accuracy: 0.8018\n",
      "Epoch 3/10\n",
      "1000/1000 [==============================] - 43s 43ms/step - loss: 0.3271 - accuracy: 0.8653 - val_loss: 0.3226 - val_accuracy: 0.8660\n",
      "Epoch 4/10\n",
      "1000/1000 [==============================] - 44s 44ms/step - loss: 0.2477 - accuracy: 0.9016 - val_loss: 0.3080 - val_accuracy: 0.8720\n",
      "Epoch 5/10\n",
      "1000/1000 [==============================] - 42s 42ms/step - loss: 0.2832 - accuracy: 0.8816 - val_loss: 0.3513 - val_accuracy: 0.8585\n",
      "Epoch 6/10\n",
      "1000/1000 [==============================] - 39s 39ms/step - loss: 0.2075 - accuracy: 0.9203 - val_loss: 0.3257 - val_accuracy: 0.8641\n",
      "Epoch 7/10\n",
      "1000/1000 [==============================] - 40s 40ms/step - loss: 0.1731 - accuracy: 0.9368 - val_loss: 0.4241 - val_accuracy: 0.8405\n",
      "Epoch 8/10\n",
      "1000/1000 [==============================] - 40s 40ms/step - loss: 0.1549 - accuracy: 0.9446 - val_loss: 0.3943 - val_accuracy: 0.8643\n",
      "Epoch 9/10\n",
      "1000/1000 [==============================] - 40s 40ms/step - loss: 0.1344 - accuracy: 0.9531 - val_loss: 0.4144 - val_accuracy: 0.8608\n",
      "Epoch 10/10\n",
      "1000/1000 [==============================] - 39s 39ms/step - loss: 0.1172 - accuracy: 0.9605 - val_loss: 0.4240 - val_accuracy: 0.8599\n"
     ]
    }
   ],
   "source": [
    "# 5. Building the Neural Network with TensorFlow\n",
    "# We will create a simple neural network with an Embedding layer, \n",
    "# followed by two LSTM layers, and a Dense output layer.\n",
    "\n",
    "import tensorflow as tf\n",
    "\n",
    "model = tf.keras.Sequential([\n",
    "    tf.keras.layers.Embedding(10000, 16, input_length=200),\n",
    "    tf.keras.layers.LSTM(64, return_sequences=True),\n",
    "    tf.keras.layers.LSTM(32),\n",
    "    tf.keras.layers.Dense(24, activation='relu'),\n",
    "    tf.keras.layers.Dense(1, activation='sigmoid')\n",
    "])\n",
    "\n",
    "model.compile(\n",
    "    loss='binary_crossentropy',\n",
    "    optimizer='adam',\n",
    "    metrics=['accuracy']\n",
    ")\n",
    "\n",
    "history = model.fit(X_train, y_train, epochs=10, validation_split=0.2)"
   ]
  },
  {
   "cell_type": "markdown",
   "metadata": {},
   "source": [
    "### Model Explanation\n",
    "- Embedding Layer: Converts word indices into dense vectors of fixed size (16 dimensions).\n",
    "- LSTM Layers: These layers capture patterns in the text over sequences of words.\n",
    "- Dense Layer: Reduces the dimensionality of the features.\n",
    "- Output Layer: Uses the sigmoid activation function to predict the probability of being positive."
   ]
  },
  {
   "cell_type": "code",
   "execution_count": 9,
   "metadata": {},
   "outputs": [
    {
     "data": {
      "image/png": "[encoded data removed]",
      "text/plain": [
       "<Figure size 640x480 with 1 Axes>"
      ]
     },
     "metadata": {},
     "output_type": "display_data"
    }
   ],
   "source": [
    "# 6. Visualizing Model Performance\n",
    "import matplotlib.pyplot as plt\n",
    "\n",
    "plt.plot(history.history['accuracy'], label='Training Accuracy')\n",
    "plt.plot(history.history['val_accuracy'], label='Validation Accuracy')\n",
    "plt.xlabel('Epochs')\n",
    "plt.ylabel('Accuracy')\n",
    "plt.legend()\n",
    "plt.show()"
   ]
  },
  {
   "cell_type": "code",
   "execution_count": 17,
   "metadata": {},
   "outputs": [
    {
     "name": "stdout",
     "output_type": "stream",
     "text": [
      "313/313 [==============================] - 6s 20ms/step - loss: 0.4104 - accuracy: 0.8600\n",
      "Test Accuracy: 0.86\n"
     ]
    }
   ],
   "source": [
    "# 7. Evaluating the Model\n",
    "test_loss, test_accuracy = model.evaluate(X_test, y_test)\n",
    "print(f'Test Accuracy: {test_accuracy:.2f}')"
   ]
  },
  {
   "cell_type": "code",
   "execution_count": 24,
   "metadata": {},
   "outputs": [
    {
     "name": "stdout",
     "output_type": "stream",
     "text": [
      "1/1 [==============================] - 0s 29ms/step\n",
      "['Positive', 'Negative', 'Negative']\n"
     ]
    }
   ],
   "source": [
    "# 8. Making Predictions\n",
    "# We can use our model to predict the sentiment of new movie reviews.\n",
    "sample_reviews = [\n",
    "    \"I absolutely loved this movie! The plot was thrilling and the characters were so well developed.\",\n",
    "    \"The film was a disaster. Poor acting and a predictable storyline.\",\n",
    "    \"the film was technically sound ok\"\n",
    "]\n",
    "\n",
    "sample_sequences = tokenizer.texts_to_sequences(sample_reviews)\n",
    "sample_padded = pad_sequences(sample_sequences, maxlen=200)\n",
    "\n",
    "predictions = model.predict(sample_padded)\n",
    "print([\"Positive\" if prob > 0.5 else \"Negative\" for prob in predictions])"
   ]
  },
  {
   "cell_type": "markdown",
   "metadata": {},
   "source": [
    "# FIN"
   ]
  }
 ],
 "metadata": {
  "kernelspec": {
   "display_name": "tf15",
   "language": "python",
   "name": "python3"
  },
  "language_info": {
   "codemirror_mode": {
    "name": "ipython",
    "version": 3
   },
   "file_extension": ".py",
   "mimetype": "text/x-python",
   "name": "python",
   "nbconvert_exporter": "python",
   "pygments_lexer": "ipython3",
   "version": "3.11.10"
  }
 },
 "nbformat": 4,
 "nbformat_minor": 2
}
